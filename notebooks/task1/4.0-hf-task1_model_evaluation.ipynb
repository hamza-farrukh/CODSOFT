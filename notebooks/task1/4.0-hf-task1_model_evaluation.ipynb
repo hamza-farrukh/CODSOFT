{
 "cells": [
  {
   "cell_type": "code",
   "execution_count": 24,
   "id": "4b462731-6a5f-484c-9718-15175ac6e3ca",
   "metadata": {},
   "outputs": [],
   "source": [
    "import os\n",
    "import pickle\n",
    "import numpy as np\n",
    "import pandas as pd"
   ]
  },
  {
   "cell_type": "code",
   "execution_count": 25,
   "id": "e5d324b1-c75a-4527-95b0-03859e80cd5e",
   "metadata": {},
   "outputs": [],
   "source": [
    "# Pipelines\n",
    "from sklearn.model_selection import train_test_split\n",
    "from sklearn.pipeline import Pipeline\n",
    "from sklearn.compose import ColumnTransformer\n",
    "\n",
    "# Transformers\n",
    "from sklearn.impute import SimpleImputer\n",
    "from sklearn.preprocessing import OneHotEncoder\n",
    "from sklearn.preprocessing import FunctionTransformer\n",
    "\n",
    "## Models\n",
    "from sklearn.ensemble import RandomForestClassifier\n",
    "\n",
    "## Metrics\n",
    "from sklearn.metrics import f1_score, accuracy_score, confusion_matrix, classification_report"
   ]
  },
  {
   "cell_type": "code",
   "execution_count": 26,
   "id": "37aae8a8-3409-4ca1-8805-035065ed5283",
   "metadata": {},
   "outputs": [],
   "source": [
    "from data_gadgets.cleaning import Cleaner"
   ]
  },
  {
   "cell_type": "markdown",
   "id": "bc975ec9-cde2-4195-a297-57f990878fdd",
   "metadata": {},
   "source": [
    "# Reading Data"
   ]
  },
  {
   "cell_type": "code",
   "execution_count": 27,
   "id": "1266dc6c-e51f-4f8b-aa04-3d6571804fc3",
   "metadata": {},
   "outputs": [],
   "source": [
    "path = os.path.join('..', '..', 'data', 'raw', 'X_test_task1.csv')\n",
    "X_test = pd.read_csv(path)\n",
    "path = os.path.join('..', '..', 'data', 'raw', 'y_test_task1.csv')\n",
    "y_test = pd.read_csv(path)"
   ]
  },
  {
   "cell_type": "markdown",
   "id": "9fa73d9a-ef56-4bb6-8e7a-940327f1302b",
   "metadata": {},
   "source": [
    "# Loading Model"
   ]
  },
  {
   "cell_type": "code",
   "execution_count": 28,
   "id": "8a180d2f-df7f-4b0d-a37a-8aeb2c720fbe",
   "metadata": {},
   "outputs": [],
   "source": [
    "path = os.path.join('..', '..', 'models', 'model_task1.pkl')\n",
    "with open(path, 'rb') as file:\n",
    "    model = pickle.load(file)"
   ]
  },
  {
   "cell_type": "markdown",
   "id": "3168b032-4a67-4e28-b084-68a0b996e52d",
   "metadata": {},
   "source": [
    "# Prediction Pipeline"
   ]
  },
  {
   "cell_type": "code",
   "execution_count": 29,
   "id": "95f153b1-0231-4a58-80c2-8b275b388c56",
   "metadata": {},
   "outputs": [],
   "source": [
    "def cleaning_pipeline(df):\n",
    "    cleaner = Cleaner()\n",
    "    df = cleaner.headers(df)\n",
    "    df = cleaner.categories(df)\n",
    "    df['cabin'] = df['cabin'].map(lambda x: x[0] if type(x) is not float else 'N')\n",
    "\n",
    "    df['sibsp'] = df['sibsp'].map(lambda x: 1 if x >=1 else 0)\n",
    "    df['parch'] = df['parch'].map(lambda x: 1 if x >=1 else 0)\n",
    "    family = []\n",
    "    for value1, value2 in zip(df.sibsp, df.parch):\n",
    "        if value1 == 1 or value2 == 1:\n",
    "            family.append(1)\n",
    "        else:\n",
    "            family.append(0)\n",
    "    df['family'] = family\n",
    "    df = df.drop(['sibsp', 'parch'], axis=1)\n",
    "    \n",
    "    return df"
   ]
  },
  {
   "cell_type": "code",
   "execution_count": 30,
   "id": "cf889300-0808-4d3d-b94c-6cfed0ca8503",
   "metadata": {},
   "outputs": [],
   "source": [
    "X_test = cleaning_pipeline(X_test)\n",
    "y_pred = model.predict(X_test)"
   ]
  },
  {
   "cell_type": "markdown",
   "id": "92c67d20-9211-45a4-bfb8-03721d78b436",
   "metadata": {},
   "source": [
    "# Evaluation"
   ]
  },
  {
   "cell_type": "code",
   "execution_count": 31,
   "id": "32024968-efa2-4c1b-b1f6-160ad6de5f0e",
   "metadata": {},
   "outputs": [
    {
     "data": {
      "text/plain": [
       "1.0"
      ]
     },
     "execution_count": 31,
     "metadata": {},
     "output_type": "execute_result"
    }
   ],
   "source": [
    "accuracy_score(y_test, y_pred)"
   ]
  },
  {
   "cell_type": "code",
   "execution_count": 32,
   "id": "d17175f5-fb9d-484f-9e88-e072a7ca8caf",
   "metadata": {},
   "outputs": [
    {
     "data": {
      "text/plain": [
       "1.0"
      ]
     },
     "execution_count": 32,
     "metadata": {},
     "output_type": "execute_result"
    }
   ],
   "source": [
    "f1_score(y_test, y_pred)"
   ]
  },
  {
   "cell_type": "code",
   "execution_count": 33,
   "id": "28f2b747-8178-44af-89cb-f2ef104f9dac",
   "metadata": {},
   "outputs": [
    {
     "name": "stdout",
     "output_type": "stream",
     "text": [
      "              precision    recall  f1-score   support\n",
      "\n",
      "           0       1.00      1.00      1.00        45\n",
      "           1       1.00      1.00      1.00        39\n",
      "\n",
      "    accuracy                           1.00        84\n",
      "   macro avg       1.00      1.00      1.00        84\n",
      "weighted avg       1.00      1.00      1.00        84\n",
      "\n"
     ]
    }
   ],
   "source": [
    "print(classification_report(y_test, y_pred))"
   ]
  },
  {
   "cell_type": "code",
   "execution_count": 34,
   "id": "e270250e-eb0f-497d-af89-ad8253356a30",
   "metadata": {},
   "outputs": [
    {
     "data": {
      "text/plain": [
       "array([[45,  0],\n",
       "       [ 0, 39]], dtype=int64)"
      ]
     },
     "execution_count": 34,
     "metadata": {},
     "output_type": "execute_result"
    }
   ],
   "source": [
    "confusion_matrix(y_test, y_pred)"
   ]
  }
 ],
 "metadata": {
  "kernelspec": {
   "display_name": "Python 3 (ipykernel)",
   "language": "python",
   "name": "python3"
  },
  "language_info": {
   "codemirror_mode": {
    "name": "ipython",
    "version": 3
   },
   "file_extension": ".py",
   "mimetype": "text/x-python",
   "name": "python",
   "nbconvert_exporter": "python",
   "pygments_lexer": "ipython3",
   "version": "3.11.1"
  }
 },
 "nbformat": 4,
 "nbformat_minor": 5
}

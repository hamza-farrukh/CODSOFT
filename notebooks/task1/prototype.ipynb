{
 "cells": [
  {
   "cell_type": "code",
   "execution_count": null,
   "id": "38f0da8a-6d93-4db9-b986-cde8e550b482",
   "metadata": {},
   "outputs": [
    {
     "name": "stderr",
     "output_type": "stream",
     "text": [
      "F:\\Work\\CODSOFT\\venv\\Lib\\site-packages\\tqdm\\auto.py:21: TqdmWarning: IProgress not found. Please update jupyter and ipywidgets. See https://ipywidgets.readthedocs.io/en/stable/user_install.html\n",
      "  from .autonotebook import tqdm as notebook_tqdm\n"
     ]
    }
   ],
   "source": [
    "import gradio as gr\n",
    "\n",
    "def task1_model(*args):\n",
    "    inputs = {}\n",
    "    for arg, name in zip(args, cols['continuous']+cols['discrete']+cols['category']):\n",
    "        inputs[name] = arg\n",
    "    print(inputs)\n",
    "    inputs = pd.DataFrame(inputs, index=[0])\n",
    "    \n",
    "    output = pipe.predict(inputs)\n",
    "    return output\n",
    "interface_components = []\n",
    "\n",
    "with gr.Blocks() as demo:\n",
    "    gr.Markdown(\"Input values.\")\n",
    "    with gr.Tab(\"Task 1\"):\n",
    "        for feature_type in ['time', 'continuous', 'discrete', 'category']:\n",
    "            gr.Row()\n",
    "            if cols[feature_type] != []:\n",
    "                # if feature_type == 'time':\n",
    "                #     for feature in cols['time']:\n",
    "                #         input = gr.\n",
    "                #         interface_components.append(input)\n",
    "                if feature_type == 'continuous':\n",
    "                    for feature in cols['continuous']:\n",
    "                        input = gr.Number(label=feature)\n",
    "                        interface_components.append(input)\n",
    "                if feature_type == 'discrete':\n",
    "                    for feature in cols['discrete']:\n",
    "                        input = gr.Dropdown(X_train[feature].unique().tolist(), label=feature, value=X_train[feature].unique().tolist()[0])\n",
    "                        interface_components.append(input)\n",
    "                if feature_type == 'category':\n",
    "                    for feature in cols['category']:\n",
    "                        input = gr.Dropdown(X_train[feature].unique().tolist(), label=feature, value=X_train[feature].unique().tolist()[0])\n",
    "                        interface_components.append(input)\n",
    "                        \n",
    "        text_output = gr.Number(label='Output')\n",
    "        text_button = gr.Button(\"Predict\")\n",
    "\n",
    "    text_button.click(task1_model, inputs=interface_components, outputs=text_output)\n",
    "\n",
    "demo.launch(inline=False, inbrowser=True)"
   ]
  }
 ],
 "metadata": {
  "kernelspec": {
   "display_name": "Python 3 (ipykernel)",
   "language": "python",
   "name": "python3"
  },
  "language_info": {
   "codemirror_mode": {
    "name": "ipython",
    "version": 3
   },
   "file_extension": ".py",
   "mimetype": "text/x-python",
   "name": "python",
   "nbconvert_exporter": "python",
   "pygments_lexer": "ipython3",
   "version": "3.11.1"
  }
 },
 "nbformat": 4,
 "nbformat_minor": 5
}

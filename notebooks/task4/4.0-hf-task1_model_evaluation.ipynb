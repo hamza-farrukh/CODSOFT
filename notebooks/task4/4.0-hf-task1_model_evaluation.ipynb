{
 "cells": [
  {
   "cell_type": "code",
   "execution_count": 1,
   "id": "4b462731-6a5f-484c-9718-15175ac6e3ca",
   "metadata": {},
   "outputs": [],
   "source": [
    "import os\n",
    "import pickle\n",
    "import numpy as np\n",
    "import pandas as pd"
   ]
  },
  {
   "cell_type": "code",
   "execution_count": 10,
   "id": "e5d324b1-c75a-4527-95b0-03859e80cd5e",
   "metadata": {},
   "outputs": [],
   "source": [
    "# Pipelines\n",
    "from sklearn.model_selection import train_test_split\n",
    "from sklearn.pipeline import Pipeline\n",
    "from sklearn.compose import ColumnTransformer\n",
    "\n",
    "# Transformers\n",
    "from sklearn.impute import SimpleImputer\n",
    "from sklearn.preprocessing import OneHotEncoder\n",
    "from sklearn.preprocessing import FunctionTransformer\n",
    "\n",
    "## Models\n",
    "from sklearn.linear_model import LinearRegression\n",
    "\n",
    "## Metrics\n",
    "from sklearn.metrics import r2_score"
   ]
  },
  {
   "cell_type": "code",
   "execution_count": 3,
   "id": "37aae8a8-3409-4ca1-8805-035065ed5283",
   "metadata": {},
   "outputs": [],
   "source": [
    "from data_gadgets.cleaning import Cleaner"
   ]
  },
  {
   "cell_type": "markdown",
   "id": "bc975ec9-cde2-4195-a297-57f990878fdd",
   "metadata": {},
   "source": [
    "# Reading Data"
   ]
  },
  {
   "cell_type": "code",
   "execution_count": 4,
   "id": "1266dc6c-e51f-4f8b-aa04-3d6571804fc3",
   "metadata": {},
   "outputs": [],
   "source": [
    "path = os.path.join('..', '..', 'data', 'raw', 'X_test_task4.csv')\n",
    "X_test = pd.read_csv(path)\n",
    "path = os.path.join('..', '..', 'data', 'raw', 'y_test_task4.csv')\n",
    "y_test = pd.read_csv(path)"
   ]
  },
  {
   "cell_type": "markdown",
   "id": "9fa73d9a-ef56-4bb6-8e7a-940327f1302b",
   "metadata": {},
   "source": [
    "# Loading Model"
   ]
  },
  {
   "cell_type": "code",
   "execution_count": 5,
   "id": "8a180d2f-df7f-4b0d-a37a-8aeb2c720fbe",
   "metadata": {},
   "outputs": [],
   "source": [
    "path = os.path.join('..', '..', 'models', 'model_task4.pkl')\n",
    "with open(path, 'rb') as file:\n",
    "    model = pickle.load(file)"
   ]
  },
  {
   "cell_type": "markdown",
   "id": "3168b032-4a67-4e28-b084-68a0b996e52d",
   "metadata": {},
   "source": [
    "# Prediction Pipeline"
   ]
  },
  {
   "cell_type": "code",
   "execution_count": 6,
   "id": "95f153b1-0231-4a58-80c2-8b275b388c56",
   "metadata": {},
   "outputs": [],
   "source": [
    "def cleaning_pipeline(df):\n",
    "    cleaner = Cleaner()\n",
    "    df = cleaner.headers(df)\n",
    "    df = cleaner.categories(df)\n",
    "    df = df.drop(['customer_name', 'customer_e-mail', 'country'], axis=1)\n",
    "    \n",
    "    return df"
   ]
  },
  {
   "cell_type": "code",
   "execution_count": 7,
   "id": "cf889300-0808-4d3d-b94c-6cfed0ca8503",
   "metadata": {},
   "outputs": [],
   "source": [
    "X_test = cleaning_pipeline(X_test)\n",
    "y_pred = model.predict(X_test)"
   ]
  },
  {
   "cell_type": "markdown",
   "id": "92c67d20-9211-45a4-bfb8-03721d78b436",
   "metadata": {},
   "source": [
    "# Evaluation"
   ]
  },
  {
   "cell_type": "code",
   "execution_count": 11,
   "id": "d17175f5-fb9d-484f-9e88-e072a7ca8caf",
   "metadata": {},
   "outputs": [
    {
     "data": {
      "text/plain": [
       "0.999999979272406"
      ]
     },
     "execution_count": 11,
     "metadata": {},
     "output_type": "execute_result"
    }
   ],
   "source": [
    "r2_score(y_test, y_pred)"
   ]
  }
 ],
 "metadata": {
  "kernelspec": {
   "display_name": "Python 3 (ipykernel)",
   "language": "python",
   "name": "python3"
  },
  "language_info": {
   "codemirror_mode": {
    "name": "ipython",
    "version": 3
   },
   "file_extension": ".py",
   "mimetype": "text/x-python",
   "name": "python",
   "nbconvert_exporter": "python",
   "pygments_lexer": "ipython3",
   "version": "3.11.1"
  }
 },
 "nbformat": 4,
 "nbformat_minor": 5
}
